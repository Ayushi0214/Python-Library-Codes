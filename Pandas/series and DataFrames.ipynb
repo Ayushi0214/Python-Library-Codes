{
 "cells": [
  {
   "cell_type": "code",
   "execution_count": 4,
   "id": "c98624b8-70ce-4431-a06f-4824d81b74e3",
   "metadata": {},
   "outputs": [
    {
     "data": {
      "text/plain": [
       "0      john\n",
       "1     peter\n",
       "2    gaurav\n",
       "dtype: object"
      ]
     },
     "execution_count": 4,
     "metadata": {},
     "output_type": "execute_result"
    }
   ],
   "source": [
    "import pandas as pd\n",
    "\n",
    "name = [\"john\",\"peter\",\"gaurav\"]\n",
    "s = pd.Series(name)\n",
    "s"
   ]
  },
  {
   "cell_type": "code",
   "execution_count": 10,
   "id": "fcdd1e82-b894-4fac-9bc0-b6f687468d06",
   "metadata": {},
   "outputs": [
    {
     "data": {
      "text/plain": [
       "0    12\n",
       "1    14\n",
       "2     9\n",
       "Name: age, dtype: int64"
      ]
     },
     "execution_count": 10,
     "metadata": {},
     "output_type": "execute_result"
    }
   ],
   "source": [
    "students = {\"name\" : [\"john\",\"peter\",\"gaurav\"],\n",
    "           \"age\": [12,14,9],\n",
    "           \"gender\":[\"M\",\"M\",\"M\"]}\n",
    "\n",
    "df = pd.DataFrame(students)\n",
    "df[\"age\"]"
   ]
  },
  {
   "cell_type": "code",
   "execution_count": 11,
   "id": "86a5ef8e-8cdc-4ee0-b35d-e4b711ed4d3b",
   "metadata": {},
   "outputs": [
    {
     "data": {
      "text/html": [
       "<div>\n",
       "<style scoped>\n",
       "    .dataframe tbody tr th:only-of-type {\n",
       "        vertical-align: middle;\n",
       "    }\n",
       "\n",
       "    .dataframe tbody tr th {\n",
       "        vertical-align: top;\n",
       "    }\n",
       "\n",
       "    .dataframe thead th {\n",
       "        text-align: right;\n",
       "    }\n",
       "</style>\n",
       "<table border=\"1\" class=\"dataframe\">\n",
       "  <thead>\n",
       "    <tr style=\"text-align: right;\">\n",
       "      <th></th>\n",
       "      <th>Product Name</th>\n",
       "      <th>Price (USD)</th>\n",
       "      <th>Quantity Sold</th>\n",
       "    </tr>\n",
       "  </thead>\n",
       "  <tbody>\n",
       "    <tr>\n",
       "      <th>0</th>\n",
       "      <td>Apples</td>\n",
       "      <td>1.99</td>\n",
       "      <td>150</td>\n",
       "    </tr>\n",
       "    <tr>\n",
       "      <th>1</th>\n",
       "      <td>Bananas</td>\n",
       "      <td>0.59</td>\n",
       "      <td>200</td>\n",
       "    </tr>\n",
       "    <tr>\n",
       "      <th>2</th>\n",
       "      <td>Carrots</td>\n",
       "      <td>0.89</td>\n",
       "      <td>250</td>\n",
       "    </tr>\n",
       "    <tr>\n",
       "      <th>3</th>\n",
       "      <td>Tomatoes</td>\n",
       "      <td>2.49</td>\n",
       "      <td>180</td>\n",
       "    </tr>\n",
       "    <tr>\n",
       "      <th>4</th>\n",
       "      <td>Potatoes</td>\n",
       "      <td>1.29</td>\n",
       "      <td>300</td>\n",
       "    </tr>\n",
       "    <tr>\n",
       "      <th>5</th>\n",
       "      <td>Onions</td>\n",
       "      <td>0.79</td>\n",
       "      <td>270</td>\n",
       "    </tr>\n",
       "    <tr>\n",
       "      <th>6</th>\n",
       "      <td>Broccoli</td>\n",
       "      <td>2.19</td>\n",
       "      <td>130</td>\n",
       "    </tr>\n",
       "    <tr>\n",
       "      <th>7</th>\n",
       "      <td>Spinach</td>\n",
       "      <td>1.99</td>\n",
       "      <td>220</td>\n",
       "    </tr>\n",
       "    <tr>\n",
       "      <th>8</th>\n",
       "      <td>Milk</td>\n",
       "      <td>3.49</td>\n",
       "      <td>190</td>\n",
       "    </tr>\n",
       "    <tr>\n",
       "      <th>9</th>\n",
       "      <td>Eggs</td>\n",
       "      <td>2.99</td>\n",
       "      <td>160</td>\n",
       "    </tr>\n",
       "    <tr>\n",
       "      <th>10</th>\n",
       "      <td>Bread</td>\n",
       "      <td>2.49</td>\n",
       "      <td>80</td>\n",
       "    </tr>\n",
       "    <tr>\n",
       "      <th>11</th>\n",
       "      <td>Chicken Breast</td>\n",
       "      <td>5.99</td>\n",
       "      <td>60</td>\n",
       "    </tr>\n",
       "    <tr>\n",
       "      <th>12</th>\n",
       "      <td>Ground Beef</td>\n",
       "      <td>6.99</td>\n",
       "      <td>50</td>\n",
       "    </tr>\n",
       "    <tr>\n",
       "      <th>13</th>\n",
       "      <td>Salmon</td>\n",
       "      <td>10.99</td>\n",
       "      <td>40</td>\n",
       "    </tr>\n",
       "    <tr>\n",
       "      <th>14</th>\n",
       "      <td>Yogurt</td>\n",
       "      <td>0.99</td>\n",
       "      <td>300</td>\n",
       "    </tr>\n",
       "    <tr>\n",
       "      <th>15</th>\n",
       "      <td>Cheese</td>\n",
       "      <td>4.49</td>\n",
       "      <td>230</td>\n",
       "    </tr>\n",
       "    <tr>\n",
       "      <th>16</th>\n",
       "      <td>Orange Juice</td>\n",
       "      <td>3.99</td>\n",
       "      <td>120</td>\n",
       "    </tr>\n",
       "    <tr>\n",
       "      <th>17</th>\n",
       "      <td>Coffee</td>\n",
       "      <td>9.99</td>\n",
       "      <td>70</td>\n",
       "    </tr>\n",
       "    <tr>\n",
       "      <th>18</th>\n",
       "      <td>Rice</td>\n",
       "      <td>1.49</td>\n",
       "      <td>500</td>\n",
       "    </tr>\n",
       "    <tr>\n",
       "      <th>19</th>\n",
       "      <td>Pasta</td>\n",
       "      <td>1.29</td>\n",
       "      <td>450</td>\n",
       "    </tr>\n",
       "  </tbody>\n",
       "</table>\n",
       "</div>"
      ],
      "text/plain": [
       "      Product Name  Price (USD)  Quantity Sold\n",
       "0           Apples         1.99            150\n",
       "1          Bananas         0.59            200\n",
       "2          Carrots         0.89            250\n",
       "3         Tomatoes         2.49            180\n",
       "4         Potatoes         1.29            300\n",
       "5           Onions         0.79            270\n",
       "6         Broccoli         2.19            130\n",
       "7          Spinach         1.99            220\n",
       "8             Milk         3.49            190\n",
       "9             Eggs         2.99            160\n",
       "10           Bread         2.49             80\n",
       "11  Chicken Breast         5.99             60\n",
       "12     Ground Beef         6.99             50\n",
       "13          Salmon        10.99             40\n",
       "14          Yogurt         0.99            300\n",
       "15          Cheese         4.49            230\n",
       "16    Orange Juice         3.99            120\n",
       "17          Coffee         9.99             70\n",
       "18            Rice         1.49            500\n",
       "19           Pasta         1.29            450"
      ]
     },
     "execution_count": 11,
     "metadata": {},
     "output_type": "execute_result"
    }
   ],
   "source": [
    "df = pd.read_csv(\"C:/Users/ayush/Desktop/Python Da/Python Libraries/Numpy/Grocery.csv\")\n",
    "df"
   ]
  },
  {
   "cell_type": "code",
   "execution_count": 12,
   "id": "acf44eb5-6ac1-4a88-a9db-94ceb0eaa4d3",
   "metadata": {},
   "outputs": [
    {
     "name": "stdout",
     "output_type": "stream",
     "text": [
      "Requirement already satisfied: openpyxl in c:\\users\\ayush\\appdata\\local\\programs\\python\\python312\\lib\\site-packages (3.1.3)\n",
      "Requirement already satisfied: et-xmlfile in c:\\users\\ayush\\appdata\\local\\programs\\python\\python312\\lib\\site-packages (from openpyxl) (1.1.0)\n",
      "Note: you may need to restart the kernel to use updated packages.\n"
     ]
    }
   ],
   "source": [
    "pip install openpyxl"
   ]
  },
  {
   "cell_type": "code",
   "execution_count": null,
   "id": "1a49cec5-b28e-44ac-9546-a1a83f940787",
   "metadata": {},
   "outputs": [],
   "source": [
    "df = pd.read_excel(\"abc.xlsx\")"
   ]
  }
 ],
 "metadata": {
  "kernelspec": {
   "display_name": "Python 3 (ipykernel)",
   "language": "python",
   "name": "python3"
  },
  "language_info": {
   "codemirror_mode": {
    "name": "ipython",
    "version": 3
   },
   "file_extension": ".py",
   "mimetype": "text/x-python",
   "name": "python",
   "nbconvert_exporter": "python",
   "pygments_lexer": "ipython3",
   "version": "3.12.3"
  }
 },
 "nbformat": 4,
 "nbformat_minor": 5
}
